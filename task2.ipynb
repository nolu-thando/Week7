{
 "cells": [
  {
   "cell_type": "code",
   "execution_count": 6,
   "id": "2405b6eb",
   "metadata": {},
   "outputs": [
    {
     "name": "stdout",
     "output_type": "stream",
     "text": [
      "Basic Statistics\n",
      "       sepal_length  sepal_width  petal_length  petal_width\n",
      "count    150.000000   150.000000    150.000000   150.000000\n",
      "mean       5.843333     3.057333      3.758000     1.199333\n",
      "std        0.828066     0.435866      1.765298     0.762238\n",
      "min        4.300000     2.000000      1.000000     0.100000\n",
      "25%        5.100000     2.800000      1.600000     0.300000\n",
      "50%        5.800000     3.000000      4.350000     1.300000\n",
      "75%        6.400000     3.300000      5.100000     1.800000\n",
      "max        7.900000     4.400000      6.900000     2.500000\n",
      "\n",
      "Median values:\n",
      "sepal_length    5.80\n",
      "sepal_width     3.00\n",
      "petal_length    4.35\n",
      "petal_width     1.30\n",
      "dtype: float64\n",
      "\n",
      "Mean values:\n",
      "sepal_length    5.843333\n",
      "sepal_width     3.057333\n",
      "petal_length    3.758000\n",
      "petal_width     1.199333\n",
      "dtype: float64\n",
      "\n",
      "Standard deviation values:\n",
      "sepal_length    0.828066\n",
      "sepal_width     0.435866\n",
      "petal_length    1.765298\n",
      "petal_width     0.762238\n",
      "dtype: float64\n",
      "\n",
      "Mean measurements by species:\n",
      "            sepal_length  sepal_width  petal_length  petal_width\n",
      "species                                                         \n",
      "setosa             5.006        3.428         1.462        0.246\n",
      "versicolor         5.936        2.770         4.260        1.326\n",
      "virginica          6.588        2.974         5.552        2.026\n",
      "\n",
      "Observations:\n",
      "- Iris-setosa has the smallest petal length and width on average.\n",
      "- Iris-virginica generally has the largest sepal and petal dimensions.\n",
      "- Petal measurements are very useful for distinguishing species.\n"
     ]
    }
   ],
   "source": [
    "import pandas as pd # type: ignore\n",
    "\n",
    "# Load the Iris dataset (from seaborn or local CSV)\n",
    "url = \"https://raw.githubusercontent.com/mwaskom/seaborn-data/master/iris.csv\"\n",
    "df = pd.read_csv(url)\n",
    "\n",
    "#statistical summary\n",
    "print(\"Basic Statistics\")\n",
    "print(df.describe())\n",
    "\n",
    "#median values\n",
    "print(\"\\nMedian values:\")\n",
    "print(df.median(numeric_only=True))\n",
    "\n",
    "#mean values\n",
    "print(\"\\nMean values:\")\n",
    "print(df.mean(numeric_only=True))\n",
    "\n",
    "#standard deviation\n",
    "print(\"\\nStandard deviation values:\")\n",
    "print(df.std(numeric_only=True))\n",
    "\n",
    "#grouping measurements\n",
    "print(\"\\nMean measurements by species:\")\n",
    "print(df.groupby('species').mean(numeric_only=True))\n",
    "\n",
    "#Observations / Patterns\n",
    "print(\"\\nObservations:\")\n",
    "print(\"- Iris-setosa has the smallest petal length and width on average.\")\n",
    "print(\"- Iris-virginica generally has the largest sepal and petal dimensions.\")\n",
    "print(\"- Petal measurements are very useful for distinguishing species.\")"
   ]
  }
 ],
 "metadata": {
  "kernelspec": {
   "display_name": "Python 3",
   "language": "python",
   "name": "python3"
  },
  "language_info": {
   "codemirror_mode": {
    "name": "ipython",
    "version": 3
   },
   "file_extension": ".py",
   "mimetype": "text/x-python",
   "name": "python",
   "nbconvert_exporter": "python",
   "pygments_lexer": "ipython3",
   "version": "3.13.3"
  }
 },
 "nbformat": 4,
 "nbformat_minor": 5
}
